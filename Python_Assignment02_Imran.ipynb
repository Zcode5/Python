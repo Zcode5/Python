{
 "cells": [
  {
   "cell_type": "markdown",
   "id": "26ddc78d",
   "metadata": {},
   "source": [
    "# 1.\tGet the input for 2 variables though “input” function and pass them to a function to return the addition of two variables"
   ]
  },
  {
   "cell_type": "code",
   "execution_count": 4,
   "id": "97c50c1e",
   "metadata": {},
   "outputs": [
    {
     "name": "stdout",
     "output_type": "stream",
     "text": [
      "Enter the first NO:20\n",
      "Enter the first NO:60\n"
     ]
    },
    {
     "data": {
      "text/plain": [
       "80"
      ]
     },
     "execution_count": 4,
     "metadata": {},
     "output_type": "execute_result"
    }
   ],
   "source": [
    "\n",
    "var1=int(input(\"Enter the first NO:\"))\n",
    "var2=int(input(\"Enter the first NO:\"))\n",
    "def addition(var1,var2):\n",
    "    return (var1+var2)\n",
    "\n",
    "addition(var1,var2)\n"
   ]
  },
  {
   "cell_type": "code",
   "execution_count": null,
   "id": "2b2413bc",
   "metadata": {},
   "outputs": [],
   "source": []
  },
  {
   "cell_type": "markdown",
   "id": "2cd160ce",
   "metadata": {},
   "source": [
    "# 2.\tWhat happens if we try to add an int with str and vice versa. Please print out the error"
   ]
  },
  {
   "cell_type": "code",
   "execution_count": 5,
   "id": "d971f22a",
   "metadata": {
    "scrolled": true
   },
   "outputs": [
    {
     "ename": "TypeError",
     "evalue": "unsupported operand type(s) for +: 'int' and 'str'",
     "output_type": "error",
     "traceback": [
      "\u001b[1;31m---------------------------------------------------------------------------\u001b[0m",
      "\u001b[1;31mTypeError\u001b[0m                                 Traceback (most recent call last)",
      "\u001b[1;32m<ipython-input-5-52badd32d84d>\u001b[0m in \u001b[0;36m<module>\u001b[1;34m\u001b[0m\n\u001b[0;32m      1\u001b[0m \u001b[0mint\u001b[0m \u001b[1;33m=\u001b[0m \u001b[1;36m10\u001b[0m\u001b[1;33m\u001b[0m\u001b[1;33m\u001b[0m\u001b[0m\n\u001b[0;32m      2\u001b[0m \u001b[0mstr\u001b[0m \u001b[1;33m=\u001b[0m \u001b[1;34m'Hello'\u001b[0m\u001b[1;33m\u001b[0m\u001b[1;33m\u001b[0m\u001b[0m\n\u001b[1;32m----> 3\u001b[1;33m \u001b[0madd\u001b[0m \u001b[1;33m=\u001b[0m \u001b[0mint\u001b[0m \u001b[1;33m+\u001b[0m \u001b[0mstr\u001b[0m\u001b[1;33m\u001b[0m\u001b[1;33m\u001b[0m\u001b[0m\n\u001b[0m\u001b[0;32m      4\u001b[0m \u001b[0mprint\u001b[0m\u001b[1;33m(\u001b[0m\u001b[0madd\u001b[0m\u001b[1;33m)\u001b[0m\u001b[1;33m\u001b[0m\u001b[1;33m\u001b[0m\u001b[0m\n",
      "\u001b[1;31mTypeError\u001b[0m: unsupported operand type(s) for +: 'int' and 'str'"
     ]
    }
   ],
   "source": [
    "int = 10\n",
    "str = 'Hello'\n",
    "add = int + str\n",
    "print(add)"
   ]
  },
  {
   "cell_type": "markdown",
   "id": "55092d57",
   "metadata": {},
   "source": [
    "# 3 ,Create a string variable for the word “Data Science” and see if the letter “s” is present in it using membership operators"
   ]
  },
  {
   "cell_type": "code",
   "execution_count": 7,
   "id": "64db3e0c",
   "metadata": {},
   "outputs": [
    {
     "name": "stdout",
     "output_type": "stream",
     "text": [
      "Data science\n",
      "True\n"
     ]
    }
   ],
   "source": [
    "String_var = (\"Data science\")\n",
    "\n",
    "print(String_var)\n",
    "print(\"s\" in String_var)"
   ]
  },
  {
   "cell_type": "markdown",
   "id": "79743cc9",
   "metadata": {},
   "source": []
  },
  {
   "cell_type": "markdown",
   "id": "08d1c49c",
   "metadata": {},
   "source": [
    "# 4.\tWrite a function and pass a number list as an argument to the function. And return True if the first and last number of a given list is same. If numbers are different then return False"
   ]
  },
  {
   "cell_type": "code",
   "execution_count": 12,
   "id": "f57d5af2",
   "metadata": {},
   "outputs": [
    {
     "ename": "NameError",
     "evalue": "name 'z' is not defined",
     "output_type": "error",
     "traceback": [
      "\u001b[1;31m---------------------------------------------------------------------------\u001b[0m",
      "\u001b[1;31mNameError\u001b[0m                                 Traceback (most recent call last)",
      "\u001b[1;32m<ipython-input-12-934e09046947>\u001b[0m in \u001b[0;36m<module>\u001b[1;34m\u001b[0m\n\u001b[0;32m      6\u001b[0m         \u001b[1;32mreturn\u001b[0m\u001b[1;33m(\u001b[0m\u001b[1;32mFalse\u001b[0m\u001b[1;33m)\u001b[0m\u001b[1;33m\u001b[0m\u001b[1;33m\u001b[0m\u001b[0m\n\u001b[0;32m      7\u001b[0m \u001b[1;33m\u001b[0m\u001b[0m\n\u001b[1;32m----> 8\u001b[1;33m \u001b[0maddz\u001b[0m\u001b[1;33m(\u001b[0m\u001b[0mz\u001b[0m\u001b[1;33m)\u001b[0m\u001b[1;33m\u001b[0m\u001b[1;33m\u001b[0m\u001b[0m\n\u001b[0m",
      "\u001b[1;31mNameError\u001b[0m: name 'z' is not defined"
     ]
    }
   ],
   "source": [
    "def addz(z):\n",
    "    z= [1,3,5,7,8,9]\n",
    "    if(z[0]==z[-1]):\n",
    "        return(True)\n",
    "    else:\n",
    "        return(False)\n",
    "    \n",
    "addz(z)"
   ]
  },
  {
   "cell_type": "markdown",
   "id": "65af2ddd",
   "metadata": {},
   "source": [
    "# 5.\tIterate the given list of numbers (l1) and print only those numbers which are divisible by 5. (l1 = [10, 20, 33, 46, 55])"
   ]
  },
  {
   "cell_type": "code",
   "execution_count": 14,
   "id": "02d494c8",
   "metadata": {},
   "outputs": [
    {
     "name": "stdout",
     "output_type": "stream",
     "text": [
      "10\n",
      "20\n",
      "55\n"
     ]
    }
   ],
   "source": [
    "L1 = [10 , 20, 33 , 46 , 55]\n",
    "for i in L1:\n",
    "    if i % 5 == 0:\n",
    "        print(i)"
   ]
  },
  {
   "cell_type": "markdown",
   "id": "5562488e",
   "metadata": {},
   "source": [
    "# 6.\tWrite a program to create function calculation() such that it can accept two variables and calculate addition and subtraction. Also, it must return both addition and subtraction in a single return call.\n",
    "a.\tHint: Separate return values with a comma\n"
   ]
  },
  {
   "cell_type": "code",
   "execution_count": 19,
   "id": "5fc77fa3",
   "metadata": {},
   "outputs": [
    {
     "data": {
      "text/plain": [
       "(40, 20)"
      ]
     },
     "execution_count": 19,
     "metadata": {},
     "output_type": "execute_result"
    }
   ],
   "source": [
    "def calculation(var1,var2):\n",
    "    x = var1 +var2\n",
    "    y = var1 - var2\n",
    "    return x,y\n",
    "\n",
    "calculation(30,10)\n",
    "\n",
    "    \n",
    "    "
   ]
  },
  {
   "cell_type": "code",
   "execution_count": null,
   "id": "bccb7d40",
   "metadata": {},
   "outputs": [],
   "source": []
  },
  {
   "cell_type": "code",
   "execution_count": null,
   "id": "b09cecc7",
   "metadata": {},
   "outputs": [],
   "source": []
  },
  {
   "cell_type": "markdown",
   "id": "77680616",
   "metadata": {},
   "source": [
    "# 8.\tWhat’s recursion? Explain in your own words and write a program to create a recursive function to calculate the sum of numbers from 0 to 10"
   ]
  },
  {
   "cell_type": "code",
   "execution_count": 20,
   "id": "ed4f6165",
   "metadata": {},
   "outputs": [
    {
     "name": "stdout",
     "output_type": "stream",
     "text": [
      "10\n"
     ]
    }
   ],
   "source": [
    "for i in range(11):\n",
    "    z=0\n",
    "    t=z+i\n",
    "print(t)"
   ]
  },
  {
   "cell_type": "code",
   "execution_count": null,
   "id": "be3fc19f",
   "metadata": {},
   "outputs": [],
   "source": [
    "def recursion(x):\n",
    "    if x==1:\n",
    "        return x\n",
    "    else:\n",
    "        return (x * recursion(x-1))"
   ]
  },
  {
   "cell_type": "code",
   "execution_count": 21,
   "id": "f5c793db",
   "metadata": {},
   "outputs": [
    {
     "name": "stdout",
     "output_type": "stream",
     "text": [
      "factorial of 10 is: 3628800\n"
     ]
    }
   ],
   "source": [
    "def recursion(x):\n",
    "    if x==1:\n",
    "        return x\n",
    "    else:\n",
    "        return (x * recursion(x-1))\n",
    "num =10\n",
    "\n",
    "print(\"factorial of\" , num ,'is:', recursion(num))"
   ]
  },
  {
   "cell_type": "markdown",
   "id": "103f4b0b",
   "metadata": {},
   "source": [
    "# 9.\tUse filter and lambda function to calculate square for below numbers only if they are odd number\n",
    "a.\t[12, 11, 53, 22, 21, 77, 87, 88, 98]\n"
   ]
  },
  {
   "cell_type": "code",
   "execution_count": 22,
   "id": "0d33dd35",
   "metadata": {},
   "outputs": [
    {
     "name": "stdout",
     "output_type": "stream",
     "text": [
      "121\n",
      "2809\n",
      "441\n",
      "5929\n",
      "7569\n"
     ]
    }
   ],
   "source": [
    "z = [12,11,53,22,21,77,87,88,98]\n",
    "for i in z:\n",
    "    if i % 2 !=0:\n",
    "        print(i*i)"
   ]
  },
  {
   "cell_type": "code",
   "execution_count": null,
   "id": "e86a7988",
   "metadata": {},
   "outputs": [],
   "source": []
  }
 ],
 "metadata": {
  "kernelspec": {
   "display_name": "Python 3",
   "language": "python",
   "name": "python3"
  },
  "language_info": {
   "codemirror_mode": {
    "name": "ipython",
    "version": 3
   },
   "file_extension": ".py",
   "mimetype": "text/x-python",
   "name": "python",
   "nbconvert_exporter": "python",
   "pygments_lexer": "ipython3",
   "version": "3.8.8"
  }
 },
 "nbformat": 4,
 "nbformat_minor": 5
}
