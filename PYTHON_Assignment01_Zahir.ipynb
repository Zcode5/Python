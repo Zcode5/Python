{
 "cells": [
  {
   "cell_type": "markdown",
   "id": "e1240cae",
   "metadata": {},
   "source": [
    "# 1.\tImport the necessary package to\n",
    "a.\tSet the current working directory\n",
    "b.\tChange the working directory\n"
   ]
  },
  {
   "cell_type": "code",
   "execution_count": 78,
   "id": "0e00bf8a",
   "metadata": {},
   "outputs": [
    {
     "name": "stdout",
     "output_type": "stream",
     "text": [
      "Current working directory:\n",
      "C:\\Users\\lenovo\\Desktop\\DATA2022\\PYTHON_imran\n"
     ]
    }
   ],
   "source": [
    "import os\n",
    "# Get the current working\n",
    "# directory (CWD)\n",
    "cwd = os.getcwd()\n",
    "\t\n",
    "# Print the current working\n",
    "# directory (CWD)\n",
    "print(\"Current working directory:\")\n",
    "print(cwd)"
   ]
  },
  {
   "cell_type": "markdown",
   "id": "13f5110c",
   "metadata": {},
   "source": [
    "# 2.Create the string, int and float variable and delete them all in the next cell"
   ]
  },
  {
   "cell_type": "code",
   "execution_count": 2,
   "id": "a8b96d86",
   "metadata": {},
   "outputs": [
    {
     "name": "stdout",
     "output_type": "stream",
     "text": [
      "Zahir\n",
      "37\n",
      "6.1\n"
     ]
    }
   ],
   "source": [
    "name = 'Zahir'  # STRING\n",
    "age = 37        # INT\n",
    "height =6.1     # FLOAT\n",
    "print(name)\n",
    "print(age)\n",
    "print(height)\n",
    "del name       # Delete String\n",
    "del age        # Delete INT\n",
    "del height     # Delete FLOAT\n"
   ]
  },
  {
   "cell_type": "markdown",
   "id": "b7bda4e5",
   "metadata": {},
   "source": [
    "# 3.\tWhat’s the result of assigning a value to a ‘keyword’?\n",
    "a.\tPlease highlight the error\n",
    "\n",
    "\n",
    "\n"
   ]
  },
  {
   "cell_type": "code",
   "execution_count": 5,
   "id": "a3c0af74",
   "metadata": {},
   "outputs": [
    {
     "ename": "SyntaxError",
     "evalue": "cannot assign to True (<ipython-input-5-c76382b9c56a>, line 1)",
     "output_type": "error",
     "traceback": [
      "\u001b[1;36m  File \u001b[1;32m\"<ipython-input-5-c76382b9c56a>\"\u001b[1;36m, line \u001b[1;32m1\u001b[0m\n\u001b[1;33m    True = 3\u001b[0m\n\u001b[1;37m    ^\u001b[0m\n\u001b[1;31mSyntaxError\u001b[0m\u001b[1;31m:\u001b[0m cannot assign to True\n"
     ]
    }
   ],
   "source": [
    "True = 3      # Assigned Value 3 to the Keyword \"TRUE\"\n",
    "print(True)"
   ]
  },
  {
   "cell_type": "code",
   "execution_count": 4,
   "id": "643fe2e6",
   "metadata": {},
   "outputs": [
    {
     "data": {
      "text/plain": [
       "['False',\n",
       " 'None',\n",
       " 'True',\n",
       " 'and',\n",
       " 'as',\n",
       " 'assert',\n",
       " 'async',\n",
       " 'await',\n",
       " 'break',\n",
       " 'class',\n",
       " 'continue',\n",
       " 'def',\n",
       " 'del',\n",
       " 'elif',\n",
       " 'else',\n",
       " 'except',\n",
       " 'finally',\n",
       " 'for',\n",
       " 'from',\n",
       " 'global',\n",
       " 'if',\n",
       " 'import',\n",
       " 'in',\n",
       " 'is',\n",
       " 'lambda',\n",
       " 'nonlocal',\n",
       " 'not',\n",
       " 'or',\n",
       " 'pass',\n",
       " 'raise',\n",
       " 'return',\n",
       " 'try',\n",
       " 'while',\n",
       " 'with',\n",
       " 'yield']"
      ]
     },
     "execution_count": 4,
     "metadata": {},
     "output_type": "execute_result"
    }
   ],
   "source": [
    "import keyword\n",
    "keyword.kwlist\n"
   ]
  },
  {
   "cell_type": "markdown",
   "id": "332cebf6",
   "metadata": {},
   "source": [
    "# 4.\tHow to write a multi-line statement and assign it to a variable (Note: Without using a backslash “\\” at the end of each line)"
   ]
  },
  {
   "cell_type": "code",
   "execution_count": 7,
   "id": "337abfaa",
   "metadata": {},
   "outputs": [
    {
     "name": "stdout",
     "output_type": "stream",
     "text": [
      " This is my first class in the python. I am startedd to do the assignment after many yesrs.\n",
      "My phase is slow, I hope i can improve my self in upcoming days\n",
      "\n"
     ]
    }
   ],
   "source": [
    "Z =''' This is my first class in the python. I am startedd to do the assignment after many yesrs.\n",
    "My phase is slow, I hope i can improve my self in upcoming days\n",
    "'''\n",
    "print(Z)"
   ]
  },
  {
   "cell_type": "markdown",
   "id": "6a071f44",
   "metadata": {},
   "source": [
    "# 5.\tPrint the list of numbers from 100 to 999 with an interval (step size) of 8 between the numbers"
   ]
  },
  {
   "cell_type": "code",
   "execution_count": 14,
   "id": "2c2b3b26",
   "metadata": {},
   "outputs": [
    {
     "data": {
      "text/plain": [
       "[100,\n",
       " 108,\n",
       " 116,\n",
       " 124,\n",
       " 132,\n",
       " 140,\n",
       " 148,\n",
       " 156,\n",
       " 164,\n",
       " 172,\n",
       " 180,\n",
       " 188,\n",
       " 196,\n",
       " 204,\n",
       " 212,\n",
       " 220,\n",
       " 228,\n",
       " 236,\n",
       " 244,\n",
       " 252,\n",
       " 260,\n",
       " 268,\n",
       " 276,\n",
       " 284,\n",
       " 292,\n",
       " 300,\n",
       " 308,\n",
       " 316,\n",
       " 324,\n",
       " 332,\n",
       " 340,\n",
       " 348,\n",
       " 356,\n",
       " 364,\n",
       " 372,\n",
       " 380,\n",
       " 388,\n",
       " 396,\n",
       " 404,\n",
       " 412,\n",
       " 420,\n",
       " 428,\n",
       " 436,\n",
       " 444,\n",
       " 452,\n",
       " 460,\n",
       " 468,\n",
       " 476,\n",
       " 484,\n",
       " 492,\n",
       " 500,\n",
       " 508,\n",
       " 516,\n",
       " 524,\n",
       " 532,\n",
       " 540,\n",
       " 548,\n",
       " 556,\n",
       " 564,\n",
       " 572,\n",
       " 580,\n",
       " 588,\n",
       " 596,\n",
       " 604,\n",
       " 612,\n",
       " 620,\n",
       " 628,\n",
       " 636,\n",
       " 644,\n",
       " 652,\n",
       " 660,\n",
       " 668,\n",
       " 676,\n",
       " 684,\n",
       " 692,\n",
       " 700,\n",
       " 708,\n",
       " 716,\n",
       " 724,\n",
       " 732,\n",
       " 740,\n",
       " 748,\n",
       " 756,\n",
       " 764,\n",
       " 772,\n",
       " 780,\n",
       " 788,\n",
       " 796,\n",
       " 804,\n",
       " 812,\n",
       " 820,\n",
       " 828,\n",
       " 836,\n",
       " 844,\n",
       " 852,\n",
       " 860,\n",
       " 868,\n",
       " 876,\n",
       " 884,\n",
       " 892,\n",
       " 900,\n",
       " 908,\n",
       " 916,\n",
       " 924,\n",
       " 932,\n",
       " 940,\n",
       " 948,\n",
       " 956,\n",
       " 964,\n",
       " 972,\n",
       " 980,\n",
       " 988,\n",
       " 996]"
      ]
     },
     "execution_count": 14,
     "metadata": {},
     "output_type": "execute_result"
    }
   ],
   "source": [
    "list (range (100,1000,8))  # start :100 , End = 999 , so i should be 1000 (N-1) , Step Size = 8 "
   ]
  },
  {
   "cell_type": "markdown",
   "id": "d6f16f9b",
   "metadata": {},
   "source": [
    "# 6.\tWrite a “for” loop to print out the ‘n’ values and break out of the statement if the value is ‘n/2’\n"
   ]
  },
  {
   "cell_type": "code",
   "execution_count": 33,
   "id": "f2cb7034",
   "metadata": {},
   "outputs": [
    {
     "name": "stdout",
     "output_type": "stream",
     "text": [
      "0\n",
      "1\n",
      "2\n",
      "3\n",
      "4\n",
      "5\n"
     ]
    }
   ],
   "source": [
    "for i in range (11):\n",
    "    print(i)\n",
    "    if(i==10/2):\n",
    "        break"
   ]
  },
  {
   "cell_type": "markdown",
   "id": "d82a0c8c",
   "metadata": {},
   "source": [
    "# 7.\tWrite a simple function and call the docstring from outside the function"
   ]
  },
  {
   "cell_type": "code",
   "execution_count": 35,
   "id": "18a21184",
   "metadata": {},
   "outputs": [
    {
     "name": "stdout",
     "output_type": "stream",
     "text": [
      "Hellooooooooo Universe, I have written by first Funtion\n"
     ]
    }
   ],
   "source": [
    "def funtionz():\n",
    "    '''This is my first user define funtion'''\n",
    "    print(\"Hellooooooooo Universe, I have written by first Funtion\")\n",
    "funtionz()\n"
   ]
  },
  {
   "cell_type": "markdown",
   "id": "46de1efd",
   "metadata": {},
   "source": [
    "# 8.\tCreate a user-defined package in ‘site-packages’ with below 3 variables a, b and c. Import these variables and write a function to calculate the area of triangle for below 3 sides (a, b, c). Calculate the semi-perimeter (s) first, to calculate the area of triangle (area) at last\n",
    "<< Formula to calculate semi-perimeter: s = (a+b+c )/2\n",
    "<< Formula to calculate area = (s*(s-a) * (s-b) * (s-c)) ** 0.5 >>\n",
    "a.\t15\n",
    "b.\t51\n",
    "c.\t17\n"
   ]
  },
  {
   "cell_type": "code",
   "execution_count": 46,
   "id": "4166b0ee",
   "metadata": {},
   "outputs": [
    {
     "name": "stdout",
     "output_type": "stream",
     "text": [
      "41.5\n"
     ]
    }
   ],
   "source": [
    "def calcultionz(a,b,c):\n",
    "    s = (a+b+c )/2  #Formula to calculate semi-perimeter\n",
    "    print(s)\n",
    "calcultionz(15,51,17)\n"
   ]
  },
  {
   "cell_type": "code",
   "execution_count": 45,
   "id": "70f80c7c",
   "metadata": {},
   "outputs": [
    {
     "name": "stdout",
     "output_type": "stream",
     "text": [
      "(3.097937745838546e-14+505.93162828587816j)\n"
     ]
    }
   ],
   "source": [
    "def calcultionz(a,b,c):\n",
    "    s=41.5\n",
    "    area = (s*(s-a) * (s-b) * (s-c)) ** 0.5\n",
    "    #calculate area = (s*(s-a) * (s-b) * (s-c)) ** 0.5 # Formula to calculate area\n",
    "    print(area)\n",
    "calcultionz(15,51,17)\n",
    "    "
   ]
  },
  {
   "cell_type": "markdown",
   "id": "60727b62",
   "metadata": {},
   "source": [
    "# 9.\tWrite a list comprehension to print the odd numbers from 0 to 100"
   ]
  },
  {
   "cell_type": "code",
   "execution_count": 57,
   "id": "6d32c0a5",
   "metadata": {},
   "outputs": [
    {
     "data": {
      "text/plain": [
       "[1,\n",
       " 3,\n",
       " 5,\n",
       " 7,\n",
       " 9,\n",
       " 11,\n",
       " 13,\n",
       " 15,\n",
       " 17,\n",
       " 19,\n",
       " 21,\n",
       " 23,\n",
       " 25,\n",
       " 27,\n",
       " 29,\n",
       " 31,\n",
       " 33,\n",
       " 35,\n",
       " 37,\n",
       " 39,\n",
       " 41,\n",
       " 43,\n",
       " 45,\n",
       " 47,\n",
       " 49,\n",
       " 51,\n",
       " 53,\n",
       " 55,\n",
       " 57,\n",
       " 59,\n",
       " 61,\n",
       " 63,\n",
       " 65,\n",
       " 67,\n",
       " 69,\n",
       " 71,\n",
       " 73,\n",
       " 75,\n",
       " 77,\n",
       " 79,\n",
       " 81,\n",
       " 83,\n",
       " 85,\n",
       " 87,\n",
       " 89,\n",
       " 91,\n",
       " 93,\n",
       " 95,\n",
       " 97,\n",
       " 99]"
      ]
     },
     "execution_count": 57,
     "metadata": {},
     "output_type": "execute_result"
    }
   ],
   "source": [
    "def odd_numz(n):\n",
    "    return[x for x in range(0,n) if x%2 !=0]\n",
    "odd_numz(100)\n",
    "    "
   ]
  },
  {
   "cell_type": "markdown",
   "id": "c8a97231",
   "metadata": {},
   "source": [
    "# 10.\t Create a variable (ex: name) and store your full name in it. Then write a list comprehension to print your name excluding vowels (a, e, i, o, u)\n",
    "a.\tEx: name = Imran\n",
    "b.\tOutput = [‘m’, ‘r’, ‘n’]\n"
   ]
  },
  {
   "cell_type": "code",
   "execution_count": 61,
   "id": "afef0011",
   "metadata": {},
   "outputs": [],
   "source": [
    "name = 'zahirhussain'\n",
    "vowels = 'aeiou'\n",
    "\n",
    "# I dont know further "
   ]
  },
  {
   "cell_type": "code",
   "execution_count": 76,
   "id": "58587711",
   "metadata": {},
   "outputs": [
    {
     "name": "stdout",
     "output_type": "stream",
     "text": [
      "z\n",
      "h\n",
      "r\n",
      "h\n",
      "s\n",
      "s\n",
      "n\n"
     ]
    }
   ],
   "source": [
    "name = \"zahirhussain\"\n",
    "vowels = \"aeiou\"\n",
    "\n",
    "for letter in name:\n",
    "  if letter not in vowels:\n",
    "    print(letter)\n"
   ]
  },
  {
   "cell_type": "markdown",
   "id": "d0d7bbed",
   "metadata": {},
   "source": []
  }
 ],
 "metadata": {
  "kernelspec": {
   "display_name": "Python 3",
   "language": "python",
   "name": "python3"
  },
  "language_info": {
   "codemirror_mode": {
    "name": "ipython",
    "version": 3
   },
   "file_extension": ".py",
   "mimetype": "text/x-python",
   "name": "python",
   "nbconvert_exporter": "python",
   "pygments_lexer": "ipython3",
   "version": "3.8.8"
  }
 },
 "nbformat": 4,
 "nbformat_minor": 5
}
